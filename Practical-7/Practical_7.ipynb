{
  "nbformat": 4,
  "nbformat_minor": 0,
  "metadata": {
    "colab": {
      "name": "Practical-7.ipynb",
      "provenance": []
    },
    "kernelspec": {
      "name": "python3",
      "display_name": "Python 3"
    },
    "language_info": {
      "name": "python"
    }
  },
  "cells": [
    {
      "cell_type": "markdown",
      "metadata": {
        "id": "rdte-yMM6Vc9"
      },
      "source": [
        "**Implementation of K‐means Clustering algorithm on text.**\n"
      ]
    },
    {
      "cell_type": "code",
      "metadata": {
        "colab": {
          "base_uri": "https://localhost:8080/"
        },
        "id": "CXDCZk3y0Nda",
        "outputId": "9e5c507c-6bdf-4cfa-cc21-fccdd242a72c"
      },
      "source": [
        "from sklearn.feature_extraction.text import TfidfVectorizer\n",
        "from sklearn.cluster import KMeans\n",
        "\n",
        "documents = [\"NLP is researching field\",\n",
        "             \"NLP and ML changed the technological aspect drastically \",\n",
        "             \"NLP and ML are both based on statistical learning\",\n",
        "             \"Knowledge of Math is fundamental in these type of fields\"]\n",
        " \n",
        " \n",
        "vectorizer = TfidfVectorizer(stop_words = 'english')\n",
        "data = vectorizer.fit_transform(documents)\n",
        " \n",
        "true_k = 2\n",
        "clustering_model = KMeans(n_clusters = true_k, \n",
        "                          init = 'k-means++',\n",
        "                          max_iter = 300, n_init = 10)\n",
        "clustering_model.fit(data)\n",
        "\n",
        "sorted_centroids = clustering_model.cluster_centers_.argsort()[:, ::-1]\n",
        "terms = vectorizer.get_feature_names()\n",
        "\n",
        "for i in range(true_k):\n",
        "        print(\"Cluster %d:\" % i, end='')\n",
        "        for ind in sorted_centroids[i, :10]:\n",
        "            print(' %s' % terms[ind], end='')\n",
        "        print()\n",
        "        print()\n",
        " \n",
        "print()\n",
        "\n",
        "\n",
        "\n",
        "new_doc = [\"ML is great\"]\n",
        "Y = vectorizer.transform(new_doc)\n",
        "prediction = clustering_model.predict(Y)\n",
        "print(prediction)\n",
        "\n",
        "new_doc = [\"NLP is great\"]\n",
        "Y = vectorizer.transform(new_doc)\n",
        "prediction = clustering_model.predict(Y)\n",
        "print(prediction)\n"
      ],
      "execution_count": 46,
      "outputs": [
        {
          "output_type": "stream",
          "name": "stdout",
          "text": [
            "Cluster 0: type math knowledge fundamental fields technological statistical researching nlp ml\n",
            "\n",
            "Cluster 1: nlp ml researching field statistical learning based technological drastically changed\n",
            "\n",
            "\n",
            "[1]\n",
            "[1]\n"
          ]
        },
        {
          "output_type": "stream",
          "name": "stderr",
          "text": [
            "/usr/local/lib/python3.7/dist-packages/sklearn/utils/deprecation.py:87: FutureWarning: Function get_feature_names is deprecated; get_feature_names is deprecated in 1.0 and will be removed in 1.2. Please use get_feature_names_out instead.\n",
            "  warnings.warn(msg, category=FutureWarning)\n"
          ]
        }
      ]
    }
  ]
}