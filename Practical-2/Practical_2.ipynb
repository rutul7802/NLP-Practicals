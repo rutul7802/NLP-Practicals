{
  "nbformat": 4,
  "nbformat_minor": 0,
  "metadata": {
    "colab": {
      "name": "Practical-2.ipynb",
      "provenance": []
    },
    "kernelspec": {
      "name": "python3",
      "display_name": "Python 3"
    },
    "language_info": {
      "name": "python"
    }
  },
  "cells": [
    {
      "cell_type": "code",
      "metadata": {
        "id": "CXDCZk3y0Nda"
      },
      "source": [
        "import re\n"
      ],
      "execution_count": 1,
      "outputs": []
    },
    {
      "cell_type": "code",
      "metadata": {
        "id": "02xyMXu_0isc"
      },
      "source": [
        "\n",
        "def N_gram(n,text):\n",
        "  tokens=re.split(\"\\\\s+\",text)\n",
        "  ngrams=[]\n",
        "  for i in range(len(tokens)-n+1):\n",
        "    temp=[tokens[j] for j in range (i,i+n)]\n",
        "    ngrams.append(\" \".join(temp))\n",
        "  return ngrams\n"
      ],
      "execution_count": 2,
      "outputs": []
    },
    {
      "cell_type": "code",
      "metadata": {
        "id": "oCuyvYm80rcX"
      },
      "source": [
        "\n",
        "text=\"Hello there welcome to the basic N-gram model\"\n"
      ],
      "execution_count": 3,
      "outputs": []
    },
    {
      "cell_type": "code",
      "metadata": {
        "colab": {
          "base_uri": "https://localhost:8080/"
        },
        "id": "SrEYD9cI0wGE",
        "outputId": "634bb6db-9eac-45bd-f8af-5b3979237ce1"
      },
      "source": [
        "N_gram(4,text)\n"
      ],
      "execution_count": 4,
      "outputs": [
        {
          "output_type": "execute_result",
          "data": {
            "text/plain": [
              "['Hello there welcome to',\n",
              " 'there welcome to the',\n",
              " 'welcome to the basic',\n",
              " 'to the basic N-gram',\n",
              " 'the basic N-gram model']"
            ]
          },
          "metadata": {},
          "execution_count": 4
        }
      ]
    },
    {
      "cell_type": "code",
      "metadata": {
        "colab": {
          "base_uri": "https://localhost:8080/"
        },
        "id": "4dXEe7C005fU",
        "outputId": "33879c04-6a80-4f62-9836-25183212c11f"
      },
      "source": [
        "\n",
        "N_gram(5,text)\n"
      ],
      "execution_count": 5,
      "outputs": [
        {
          "output_type": "execute_result",
          "data": {
            "text/plain": [
              "['Hello there welcome to the',\n",
              " 'there welcome to the basic',\n",
              " 'welcome to the basic N-gram',\n",
              " 'to the basic N-gram model']"
            ]
          },
          "metadata": {},
          "execution_count": 5
        }
      ]
    },
    {
      "cell_type": "code",
      "metadata": {
        "id": "EwL60xbO0-zL"
      },
      "source": [
        "\n",
        "# List is empty if index given is out of range\n"
      ],
      "execution_count": 6,
      "outputs": []
    },
    {
      "cell_type": "code",
      "metadata": {
        "colab": {
          "base_uri": "https://localhost:8080/"
        },
        "id": "zFJne5b71Bpq",
        "outputId": "3718a984-56d5-4f28-ed6d-cd65ab5a97a2"
      },
      "source": [
        "N_gram(10,text)\n",
        "[]"
      ],
      "execution_count": 7,
      "outputs": [
        {
          "output_type": "execute_result",
          "data": {
            "text/plain": [
              "[]"
            ]
          },
          "metadata": {},
          "execution_count": 7
        }
      ]
    }
  ]
}