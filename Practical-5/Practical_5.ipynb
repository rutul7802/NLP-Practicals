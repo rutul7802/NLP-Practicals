{
  "nbformat": 4,
  "nbformat_minor": 0,
  "metadata": {
    "colab": {
      "name": "Practical-5.ipynb",
      "provenance": []
    },
    "kernelspec": {
      "name": "python3",
      "display_name": "Python 3"
    },
    "language_info": {
      "name": "python"
    }
  },
  "cells": [
    {
      "cell_type": "markdown",
      "metadata": {
        "id": "rdte-yMM6Vc9"
      },
      "source": [
        "**Implement LSA and Topic model**\n"
      ]
    },
    {
      "cell_type": "code",
      "metadata": {
        "colab": {
          "base_uri": "https://localhost:8080/"
        },
        "id": "CXDCZk3y0Nda",
        "outputId": "d1e5c158-65b8-4636-aa78-0764ce68a3c0"
      },
      "source": [
        "import pandas as pd\n",
        "from sklearn.feature_extraction.text import TfidfVectorizer\n",
        "import nltk\n",
        "from sklearn.decomposition import TruncatedSVD\n",
        "nltk.download('stopwords')\n",
        "from nltk.corpus import stopwords\n"
      ],
      "execution_count": 23,
      "outputs": [
        {
          "output_type": "stream",
          "name": "stdout",
          "text": [
            "[nltk_data] Downloading package stopwords to /root/nltk_data...\n",
            "[nltk_data]   Unzipping corpora/stopwords.zip.\n"
          ]
        }
      ]
    },
    {
      "cell_type": "code",
      "metadata": {
        "colab": {
          "base_uri": "https://localhost:8080/",
          "height": 142
        },
        "id": "02xyMXu_0isc",
        "outputId": "afd189de-e9a7-49e3-989c-67fda02cd150"
      },
      "source": [
        "a1 = \"NLP\"\n",
        "a2 = \"NLP is natural language processing.\"\n",
        "a3 = \"NLP is about analysis of text\"\n",
        "\n",
        "df = pd.DataFrame()\n",
        "df[\"documents\"] = [a1,a2,a3]\n",
        "df.head()\n"
      ],
      "execution_count": 25,
      "outputs": [
        {
          "output_type": "execute_result",
          "data": {
            "text/html": [
              "<div>\n",
              "<style scoped>\n",
              "    .dataframe tbody tr th:only-of-type {\n",
              "        vertical-align: middle;\n",
              "    }\n",
              "\n",
              "    .dataframe tbody tr th {\n",
              "        vertical-align: top;\n",
              "    }\n",
              "\n",
              "    .dataframe thead th {\n",
              "        text-align: right;\n",
              "    }\n",
              "</style>\n",
              "<table border=\"1\" class=\"dataframe\">\n",
              "  <thead>\n",
              "    <tr style=\"text-align: right;\">\n",
              "      <th></th>\n",
              "      <th>documents</th>\n",
              "    </tr>\n",
              "  </thead>\n",
              "  <tbody>\n",
              "    <tr>\n",
              "      <th>0</th>\n",
              "      <td>NLP</td>\n",
              "    </tr>\n",
              "    <tr>\n",
              "      <th>1</th>\n",
              "      <td>NLP is natural language processing.</td>\n",
              "    </tr>\n",
              "    <tr>\n",
              "      <th>2</th>\n",
              "      <td>NLP is about analysis of text</td>\n",
              "    </tr>\n",
              "  </tbody>\n",
              "</table>\n",
              "</div>"
            ],
            "text/plain": [
              "                             documents\n",
              "0                                  NLP\n",
              "1  NLP is natural language processing.\n",
              "2        NLP is about analysis of text"
            ]
          },
          "metadata": {},
          "execution_count": 25
        }
      ]
    },
    {
      "cell_type": "code",
      "metadata": {
        "colab": {
          "base_uri": "https://localhost:8080/",
          "height": 142
        },
        "id": "oCuyvYm80rcX",
        "outputId": "788364bc-9c26-4455-faa5-c37e0c669cd9"
      },
      "source": [
        "df['clean_documents'] = df['documents'].str.replace(\"[^a-zA-Z#]\", \" \")\n",
        "df['clean_documents'] = df['clean_documents'].fillna('').apply(lambda x: ' '.join([w for w in x.split() if len(w)>2]))\n",
        "df['clean_documents'] = df['clean_documents'].fillna('').apply(lambda x: x.lower())\n",
        "\n",
        "df.head()\n"
      ],
      "execution_count": 26,
      "outputs": [
        {
          "output_type": "execute_result",
          "data": {
            "text/html": [
              "<div>\n",
              "<style scoped>\n",
              "    .dataframe tbody tr th:only-of-type {\n",
              "        vertical-align: middle;\n",
              "    }\n",
              "\n",
              "    .dataframe tbody tr th {\n",
              "        vertical-align: top;\n",
              "    }\n",
              "\n",
              "    .dataframe thead th {\n",
              "        text-align: right;\n",
              "    }\n",
              "</style>\n",
              "<table border=\"1\" class=\"dataframe\">\n",
              "  <thead>\n",
              "    <tr style=\"text-align: right;\">\n",
              "      <th></th>\n",
              "      <th>documents</th>\n",
              "      <th>clean_documents</th>\n",
              "    </tr>\n",
              "  </thead>\n",
              "  <tbody>\n",
              "    <tr>\n",
              "      <th>0</th>\n",
              "      <td>NLP</td>\n",
              "      <td>nlp</td>\n",
              "    </tr>\n",
              "    <tr>\n",
              "      <th>1</th>\n",
              "      <td>NLP is natural language processing.</td>\n",
              "      <td>nlp natural language processing</td>\n",
              "    </tr>\n",
              "    <tr>\n",
              "      <th>2</th>\n",
              "      <td>NLP is about analysis of text</td>\n",
              "      <td>nlp about analysis text</td>\n",
              "    </tr>\n",
              "  </tbody>\n",
              "</table>\n",
              "</div>"
            ],
            "text/plain": [
              "                             documents                  clean_documents\n",
              "0                                  NLP                              nlp\n",
              "1  NLP is natural language processing.  nlp natural language processing\n",
              "2        NLP is about analysis of text          nlp about analysis text"
            ]
          },
          "metadata": {},
          "execution_count": 26
        }
      ]
    },
    {
      "cell_type": "code",
      "metadata": {
        "colab": {
          "base_uri": "https://localhost:8080/"
        },
        "id": "SrEYD9cI0wGE",
        "outputId": "8c0dc95a-4cea-4f88-f05a-26096ede5793"
      },
      "source": [
        "import nltk \n",
        "nltk.download('stopwords') \n",
        "from nltk.corpus import stopwords \n",
        "stop_words = stopwords.words('english')\n"
      ],
      "execution_count": 27,
      "outputs": [
        {
          "output_type": "stream",
          "name": "stdout",
          "text": [
            "[nltk_data] Downloading package stopwords to /root/nltk_data...\n",
            "[nltk_data]   Package stopwords is already up-to-date!\n"
          ]
        }
      ]
    },
    {
      "cell_type": "code",
      "metadata": {
        "id": "4dXEe7C005fU"
      },
      "source": [
        "tokenized_doc = df['clean_documents'].fillna('').apply(lambda x: x.split())\n",
        "\n",
        "tokenized_doc = tokenized_doc.apply(lambda x: [item for item in x if item not in stop_words]) \n",
        "detokenized_doc = []\n",
        "for i in range(len(df)):\n",
        "    t = ' '.join(tokenized_doc[i])\n",
        "    detokenized_doc.append(t)\n",
        "\n",
        "df['clean_documents'] = detokenized_doc\n"
      ],
      "execution_count": 28,
      "outputs": []
    },
    {
      "cell_type": "code",
      "metadata": {
        "colab": {
          "base_uri": "https://localhost:8080/",
          "height": 142
        },
        "id": "EwL60xbO0-zL",
        "outputId": "6988dc7b-c25d-4561-86ab-35d60810538a"
      },
      "source": [
        "df.head()"
      ],
      "execution_count": 29,
      "outputs": [
        {
          "output_type": "execute_result",
          "data": {
            "text/html": [
              "<div>\n",
              "<style scoped>\n",
              "    .dataframe tbody tr th:only-of-type {\n",
              "        vertical-align: middle;\n",
              "    }\n",
              "\n",
              "    .dataframe tbody tr th {\n",
              "        vertical-align: top;\n",
              "    }\n",
              "\n",
              "    .dataframe thead th {\n",
              "        text-align: right;\n",
              "    }\n",
              "</style>\n",
              "<table border=\"1\" class=\"dataframe\">\n",
              "  <thead>\n",
              "    <tr style=\"text-align: right;\">\n",
              "      <th></th>\n",
              "      <th>documents</th>\n",
              "      <th>clean_documents</th>\n",
              "    </tr>\n",
              "  </thead>\n",
              "  <tbody>\n",
              "    <tr>\n",
              "      <th>0</th>\n",
              "      <td>NLP</td>\n",
              "      <td>nlp</td>\n",
              "    </tr>\n",
              "    <tr>\n",
              "      <th>1</th>\n",
              "      <td>NLP is natural language processing.</td>\n",
              "      <td>nlp natural language processing</td>\n",
              "    </tr>\n",
              "    <tr>\n",
              "      <th>2</th>\n",
              "      <td>NLP is about analysis of text</td>\n",
              "      <td>nlp analysis text</td>\n",
              "    </tr>\n",
              "  </tbody>\n",
              "</table>\n",
              "</div>"
            ],
            "text/plain": [
              "                             documents                  clean_documents\n",
              "0                                  NLP                              nlp\n",
              "1  NLP is natural language processing.  nlp natural language processing\n",
              "2        NLP is about analysis of text                nlp analysis text"
            ]
          },
          "metadata": {},
          "execution_count": 29
        }
      ]
    },
    {
      "cell_type": "code",
      "metadata": {
        "colab": {
          "base_uri": "https://localhost:8080/"
        },
        "id": "zFJne5b71Bpq",
        "outputId": "74e397bd-27d7-4ed4-a529-ef572e582dac"
      },
      "source": [
        "vectorizer = TfidfVectorizer(stop_words='english', smooth_idf=True)\n",
        "X = vectorizer.fit_transform(df['clean_documents'])\n",
        "X.toarray()\n"
      ],
      "execution_count": 30,
      "outputs": [
        {
          "output_type": "execute_result",
          "data": {
            "text/plain": [
              "array([[0.        , 0.        , 0.        , 1.        , 0.        ,\n",
              "        0.        ],\n",
              "       [0.        , 0.54645401, 0.54645401, 0.32274454, 0.54645401,\n",
              "        0.        ],\n",
              "       [0.65249088, 0.        , 0.        , 0.38537163, 0.        ,\n",
              "        0.65249088]])"
            ]
          },
          "metadata": {},
          "execution_count": 30
        }
      ]
    },
    {
      "cell_type": "code",
      "metadata": {
        "colab": {
          "base_uri": "https://localhost:8080/"
        },
        "id": "h-C4ho1V5Wje",
        "outputId": "3e08fa33-3fbc-461f-fd86-546ccb3ef021"
      },
      "source": [
        "X.shape\n"
      ],
      "execution_count": 31,
      "outputs": [
        {
          "output_type": "execute_result",
          "data": {
            "text/plain": [
              "(3, 6)"
            ]
          },
          "metadata": {},
          "execution_count": 31
        }
      ]
    },
    {
      "cell_type": "code",
      "metadata": {
        "id": "mVf1BOVh5ikx"
      },
      "source": [
        "svd_model = TruncatedSVD(n_components=2, algorithm='randomized', n_iter=100, random_state=122)\n",
        "lsa = svd_model.fit_transform(X)"
      ],
      "execution_count": 32,
      "outputs": []
    },
    {
      "cell_type": "code",
      "metadata": {
        "colab": {
          "base_uri": "https://localhost:8080/",
          "height": 142
        },
        "id": "jBDu30WE7XCO",
        "outputId": "1540365e-e735-46ba-d27b-539a150dfbeb"
      },
      "source": [
        "pd.options.display.float_format = '{:,.16f}'.format\n",
        "topic_encoded_df = pd.DataFrame(lsa, columns = [\"topic_1\", \"topic_2\"])\n",
        "topic_encoded_df[\"documents\"] = df['clean_documents']\n",
        "display(topic_encoded_df[[\"documents\", \"topic_1\", \"topic_2\"]])\n"
      ],
      "execution_count": 33,
      "outputs": [
        {
          "output_type": "display_data",
          "data": {
            "text/html": [
              "<div>\n",
              "<style scoped>\n",
              "    .dataframe tbody tr th:only-of-type {\n",
              "        vertical-align: middle;\n",
              "    }\n",
              "\n",
              "    .dataframe tbody tr th {\n",
              "        vertical-align: top;\n",
              "    }\n",
              "\n",
              "    .dataframe thead th {\n",
              "        text-align: right;\n",
              "    }\n",
              "</style>\n",
              "<table border=\"1\" class=\"dataframe\">\n",
              "  <thead>\n",
              "    <tr style=\"text-align: right;\">\n",
              "      <th></th>\n",
              "      <th>documents</th>\n",
              "      <th>topic_1</th>\n",
              "      <th>topic_2</th>\n",
              "    </tr>\n",
              "  </thead>\n",
              "  <tbody>\n",
              "    <tr>\n",
              "      <th>0</th>\n",
              "      <td>nlp</td>\n",
              "      <td>0.8296366497864537</td>\n",
              "      <td>-0.0460873698072866</td>\n",
              "    </tr>\n",
              "    <tr>\n",
              "      <th>1</th>\n",
              "      <td>nlp natural language processing</td>\n",
              "      <td>0.6246263452107035</td>\n",
              "      <td>0.7245619353704799</td>\n",
              "    </tr>\n",
              "    <tr>\n",
              "      <th>2</th>\n",
              "      <td>nlp analysis text</td>\n",
              "      <td>0.6996697108711261</td>\n",
              "      <td>-0.5922004283549573</td>\n",
              "    </tr>\n",
              "  </tbody>\n",
              "</table>\n",
              "</div>"
            ],
            "text/plain": [
              "                         documents            topic_1             topic_2\n",
              "0                              nlp 0.8296366497864537 -0.0460873698072866\n",
              "1  nlp natural language processing 0.6246263452107035  0.7245619353704799\n",
              "2                nlp analysis text 0.6996697108711261 -0.5922004283549573"
            ]
          },
          "metadata": {}
        }
      ]
    },
    {
      "cell_type": "code",
      "metadata": {
        "colab": {
          "base_uri": "https://localhost:8080/"
        },
        "id": "5V-fOUgX7cdV",
        "outputId": "376cabaa-85ad-4f1c-a551-687c381a14f1"
      },
      "source": [
        "dictionary = vectorizer.get_feature_names()\n",
        "encoding_matrix = pd.DataFrame(svd_model.components_, index = [\"topic_1\",\"topic_2\"], columns = (dictionary)).T"
      ],
      "execution_count": 34,
      "outputs": [
        {
          "output_type": "stream",
          "name": "stderr",
          "text": [
            "/usr/local/lib/python3.7/dist-packages/sklearn/utils/deprecation.py:87: FutureWarning: Function get_feature_names is deprecated; get_feature_names is deprecated in 1.0 and will be removed in 1.2. Please use get_feature_names_out instead.\n",
            "  warnings.warn(msg, category=FutureWarning)\n"
          ]
        }
      ]
    },
    {
      "cell_type": "code",
      "metadata": {
        "colab": {
          "base_uri": "https://localhost:8080/",
          "height": 235
        },
        "id": "UFtxIzZu7lzc",
        "outputId": "6e5bfc60-bfd4-4593-96a4-71721c49a5f5"
      },
      "source": [
        "encoding_matrix\n"
      ],
      "execution_count": 35,
      "outputs": [
        {
          "output_type": "execute_result",
          "data": {
            "text/html": [
              "<div>\n",
              "<style scoped>\n",
              "    .dataframe tbody tr th:only-of-type {\n",
              "        vertical-align: middle;\n",
              "    }\n",
              "\n",
              "    .dataframe tbody tr th {\n",
              "        vertical-align: top;\n",
              "    }\n",
              "\n",
              "    .dataframe thead th {\n",
              "        text-align: right;\n",
              "    }\n",
              "</style>\n",
              "<table border=\"1\" class=\"dataframe\">\n",
              "  <thead>\n",
              "    <tr style=\"text-align: right;\">\n",
              "      <th></th>\n",
              "      <th>topic_1</th>\n",
              "      <th>topic_2</th>\n",
              "    </tr>\n",
              "  </thead>\n",
              "  <tbody>\n",
              "    <tr>\n",
              "      <th>analysis</th>\n",
              "      <td>0.2911544773694453</td>\n",
              "      <td>-0.4401897997976114</td>\n",
              "    </tr>\n",
              "    <tr>\n",
              "      <th>language</th>\n",
              "      <td>0.2176856831508516</td>\n",
              "      <td>0.4510513033098431</td>\n",
              "    </tr>\n",
              "    <tr>\n",
              "      <th>natural</th>\n",
              "      <td>0.2176856831508516</td>\n",
              "      <td>0.4510513033098430</td>\n",
              "    </tr>\n",
              "    <tr>\n",
              "      <th>nlp</th>\n",
              "      <td>0.8296366497864537</td>\n",
              "      <td>-0.0460873698072866</td>\n",
              "    </tr>\n",
              "    <tr>\n",
              "      <th>processing</th>\n",
              "      <td>0.2176856831508516</td>\n",
              "      <td>0.4510513033098430</td>\n",
              "    </tr>\n",
              "    <tr>\n",
              "      <th>text</th>\n",
              "      <td>0.2911544773694455</td>\n",
              "      <td>-0.4401897997976114</td>\n",
              "    </tr>\n",
              "  </tbody>\n",
              "</table>\n",
              "</div>"
            ],
            "text/plain": [
              "                      topic_1             topic_2\n",
              "analysis   0.2911544773694453 -0.4401897997976114\n",
              "language   0.2176856831508516  0.4510513033098431\n",
              "natural    0.2176856831508516  0.4510513033098430\n",
              "nlp        0.8296366497864537 -0.0460873698072866\n",
              "processing 0.2176856831508516  0.4510513033098430\n",
              "text       0.2911544773694455 -0.4401897997976114"
            ]
          },
          "metadata": {},
          "execution_count": 35
        }
      ]
    }
  ]
}