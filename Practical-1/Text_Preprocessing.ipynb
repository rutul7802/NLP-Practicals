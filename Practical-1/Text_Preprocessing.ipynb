{
  "nbformat": 4,
  "nbformat_minor": 0,
  "metadata": {
    "colab": {
      "name": "Text_Preprocessing.ipynb",
      "provenance": [],
      "collapsed_sections": []
    },
    "kernelspec": {
      "name": "python3",
      "display_name": "Python 3"
    },
    "language_info": {
      "name": "python"
    }
  },
  "cells": [
    {
      "cell_type": "code",
      "metadata": {
        "id": "IjL-orO-UYR1"
      },
      "source": [
        "import numpy as np\n",
        "import pandas as pd \n",
        "import re\n",
        "import string\n",
        "import nltk\n",
        "from nltk.corpus import stopwords\n",
        "from nltk.tokenize import word_tokenize \n",
        "from nltk.stem.porter import *\n",
        "from nltk.stem.wordnet import WordNetLemmatizer"
      ],
      "execution_count": null,
      "outputs": []
    },
    {
      "cell_type": "code",
      "metadata": {
        "colab": {
          "base_uri": "https://localhost:8080/",
          "height": 204
        },
        "id": "kC3PTqfpVT3i",
        "outputId": "2e70903c-16d1-4cdb-93ca-26558c7a5bc5"
      },
      "source": [
        "data = pd.read_csv('data.csv', encoding= 'unicode_escape')\n",
        "data.head()\n"
      ],
      "execution_count": null,
      "outputs": [
        {
          "output_type": "execute_result",
          "data": {
            "text/html": [
              "<div>\n",
              "<style scoped>\n",
              "    .dataframe tbody tr th:only-of-type {\n",
              "        vertical-align: middle;\n",
              "    }\n",
              "\n",
              "    .dataframe tbody tr th {\n",
              "        vertical-align: top;\n",
              "    }\n",
              "\n",
              "    .dataframe thead th {\n",
              "        text-align: right;\n",
              "    }\n",
              "</style>\n",
              "<table border=\"1\" class=\"dataframe\">\n",
              "  <thead>\n",
              "    <tr style=\"text-align: right;\">\n",
              "      <th></th>\n",
              "      <th>Topic</th>\n",
              "      <th>Time</th>\n",
              "      <th>Description</th>\n",
              "      <th>Link</th>\n",
              "    </tr>\n",
              "  </thead>\n",
              "  <tbody>\n",
              "    <tr>\n",
              "      <th>0</th>\n",
              "      <td>Rohit is a better captain than Kohli: Salman B...</td>\n",
              "      <td>2 hours ago</td>\n",
              "      <td>Former Pakistan skipper Salman Butt feels Roh...</td>\n",
              "      <td>https://www.timesnownews.com/sports/cricket/a...</td>\n",
              "    </tr>\n",
              "    <tr>\n",
              "      <th>1</th>\n",
              "      <td>Rohit Sharma or Virat Kohli - Who is The Bette...</td>\n",
              "      <td>8 hours ago</td>\n",
              "      <td>While some feel Kohli is not capable of leadi...</td>\n",
              "      <td>https://www.india.com/sports/rohit-sharma-or-...</td>\n",
              "    </tr>\n",
              "    <tr>\n",
              "      <th>2</th>\n",
              "      <td>Monty Panesar wants Rohit to lead India in T20...</td>\n",
              "      <td>6 hours ago</td>\n",
              "      <td>Former Eng spinner Monty Panesar has said tha...</td>\n",
              "      <td>https://www.republicworld.com/sports-news/cri...</td>\n",
              "    </tr>\n",
              "    <tr>\n",
              "      <th>3</th>\n",
              "      <td>Rohit Sharma Shares A \"Pure Joy\" Moment With D...</td>\n",
              "      <td>19 hours ago</td>\n",
              "      <td>Rohit Sharma posted a photo with his daughter</td>\n",
              "      <td>https://sports.ndtv.com/cricket/rohit-sharma-...</td>\n",
              "    </tr>\n",
              "    <tr>\n",
              "      <th>4</th>\n",
              "      <td>Rohit is a better captain than Kohli: Salman B...</td>\n",
              "      <td>3 hours ago</td>\n",
              "      <td>Former Pakistan skipper Salman Butt feels Roh...</td>\n",
              "      <td>https://www.timesnownews.com/sports/cricket/a...</td>\n",
              "    </tr>\n",
              "  </tbody>\n",
              "</table>\n",
              "</div>"
            ],
            "text/plain": [
              "                                               Topic  ...                                               Link\n",
              "0  Rohit is a better captain than Kohli: Salman B...  ...   https://www.timesnownews.com/sports/cricket/a...\n",
              "1  Rohit Sharma or Virat Kohli - Who is The Bette...  ...   https://www.india.com/sports/rohit-sharma-or-...\n",
              "2  Monty Panesar wants Rohit to lead India in T20...  ...   https://www.republicworld.com/sports-news/cri...\n",
              "3  Rohit Sharma Shares A \"Pure Joy\" Moment With D...  ...   https://sports.ndtv.com/cricket/rohit-sharma-...\n",
              "4  Rohit is a better captain than Kohli: Salman B...  ...   https://www.timesnownews.com/sports/cricket/a...\n",
              "\n",
              "[5 rows x 4 columns]"
            ]
          },
          "metadata": {
            "tags": []
          },
          "execution_count": 2
        }
      ]
    },
    {
      "cell_type": "code",
      "metadata": {
        "colab": {
          "base_uri": "https://localhost:8080/"
        },
        "id": "F5P1BMei5wW1",
        "outputId": "ced52991-08cd-459e-c3f9-234de95596d2"
      },
      "source": [
        "data.shape"
      ],
      "execution_count": null,
      "outputs": [
        {
          "output_type": "execute_result",
          "data": {
            "text/plain": [
              "(38, 4)"
            ]
          },
          "metadata": {
            "tags": []
          },
          "execution_count": 3
        }
      ]
    },
    {
      "cell_type": "code",
      "metadata": {
        "colab": {
          "base_uri": "https://localhost:8080/",
          "height": 306
        },
        "id": "6dgCDskDZB_F",
        "outputId": "d2643a3a-da39-4a1f-c41d-b0340af08e54"
      },
      "source": [
        "df = data[[\"Description\"]]\n",
        "df[\"Description\"] = df[\"Description\"].astype(str)\n",
        "df.head()\n"
      ],
      "execution_count": null,
      "outputs": [
        {
          "output_type": "stream",
          "text": [
            "/usr/local/lib/python3.7/dist-packages/ipykernel_launcher.py:2: SettingWithCopyWarning: \n",
            "A value is trying to be set on a copy of a slice from a DataFrame.\n",
            "Try using .loc[row_indexer,col_indexer] = value instead\n",
            "\n",
            "See the caveats in the documentation: https://pandas.pydata.org/pandas-docs/stable/user_guide/indexing.html#returning-a-view-versus-a-copy\n",
            "  \n"
          ],
          "name": "stderr"
        },
        {
          "output_type": "execute_result",
          "data": {
            "text/html": [
              "<div>\n",
              "<style scoped>\n",
              "    .dataframe tbody tr th:only-of-type {\n",
              "        vertical-align: middle;\n",
              "    }\n",
              "\n",
              "    .dataframe tbody tr th {\n",
              "        vertical-align: top;\n",
              "    }\n",
              "\n",
              "    .dataframe thead th {\n",
              "        text-align: right;\n",
              "    }\n",
              "</style>\n",
              "<table border=\"1\" class=\"dataframe\">\n",
              "  <thead>\n",
              "    <tr style=\"text-align: right;\">\n",
              "      <th></th>\n",
              "      <th>Description</th>\n",
              "    </tr>\n",
              "  </thead>\n",
              "  <tbody>\n",
              "    <tr>\n",
              "      <th>0</th>\n",
              "      <td>Former Pakistan skipper Salman Butt feels Roh...</td>\n",
              "    </tr>\n",
              "    <tr>\n",
              "      <th>1</th>\n",
              "      <td>While some feel Kohli is not capable of leadi...</td>\n",
              "    </tr>\n",
              "    <tr>\n",
              "      <th>2</th>\n",
              "      <td>Former Eng spinner Monty Panesar has said tha...</td>\n",
              "    </tr>\n",
              "    <tr>\n",
              "      <th>3</th>\n",
              "      <td>Rohit Sharma posted a photo with his daughter</td>\n",
              "    </tr>\n",
              "    <tr>\n",
              "      <th>4</th>\n",
              "      <td>Former Pakistan skipper Salman Butt feels Roh...</td>\n",
              "    </tr>\n",
              "  </tbody>\n",
              "</table>\n",
              "</div>"
            ],
            "text/plain": [
              "                                         Description\n",
              "0   Former Pakistan skipper Salman Butt feels Roh...\n",
              "1   While some feel Kohli is not capable of leadi...\n",
              "2   Former Eng spinner Monty Panesar has said tha...\n",
              "3      Rohit Sharma posted a photo with his daughter\n",
              "4   Former Pakistan skipper Salman Butt feels Roh..."
            ]
          },
          "metadata": {
            "tags": []
          },
          "execution_count": 4
        }
      ]
    },
    {
      "cell_type": "code",
      "metadata": {
        "colab": {
          "base_uri": "https://localhost:8080/",
          "height": 306
        },
        "id": "LXXZtoQ3c3Vl",
        "outputId": "207bc81d-b28b-4565-d57c-892f5687878c"
      },
      "source": [
        "df[\"Description_Lower\"] = df[\"Description\"].str.lower()\n",
        "df.head()"
      ],
      "execution_count": null,
      "outputs": [
        {
          "output_type": "stream",
          "text": [
            "/usr/local/lib/python3.7/dist-packages/ipykernel_launcher.py:1: SettingWithCopyWarning: \n",
            "A value is trying to be set on a copy of a slice from a DataFrame.\n",
            "Try using .loc[row_indexer,col_indexer] = value instead\n",
            "\n",
            "See the caveats in the documentation: https://pandas.pydata.org/pandas-docs/stable/user_guide/indexing.html#returning-a-view-versus-a-copy\n",
            "  \"\"\"Entry point for launching an IPython kernel.\n"
          ],
          "name": "stderr"
        },
        {
          "output_type": "execute_result",
          "data": {
            "text/html": [
              "<div>\n",
              "<style scoped>\n",
              "    .dataframe tbody tr th:only-of-type {\n",
              "        vertical-align: middle;\n",
              "    }\n",
              "\n",
              "    .dataframe tbody tr th {\n",
              "        vertical-align: top;\n",
              "    }\n",
              "\n",
              "    .dataframe thead th {\n",
              "        text-align: right;\n",
              "    }\n",
              "</style>\n",
              "<table border=\"1\" class=\"dataframe\">\n",
              "  <thead>\n",
              "    <tr style=\"text-align: right;\">\n",
              "      <th></th>\n",
              "      <th>Description</th>\n",
              "      <th>Description_Lower</th>\n",
              "    </tr>\n",
              "  </thead>\n",
              "  <tbody>\n",
              "    <tr>\n",
              "      <th>0</th>\n",
              "      <td>Former Pakistan skipper Salman Butt feels Roh...</td>\n",
              "      <td>former pakistan skipper salman butt feels roh...</td>\n",
              "    </tr>\n",
              "    <tr>\n",
              "      <th>1</th>\n",
              "      <td>While some feel Kohli is not capable of leadi...</td>\n",
              "      <td>while some feel kohli is not capable of leadi...</td>\n",
              "    </tr>\n",
              "    <tr>\n",
              "      <th>2</th>\n",
              "      <td>Former Eng spinner Monty Panesar has said tha...</td>\n",
              "      <td>former eng spinner monty panesar has said tha...</td>\n",
              "    </tr>\n",
              "    <tr>\n",
              "      <th>3</th>\n",
              "      <td>Rohit Sharma posted a photo with his daughter</td>\n",
              "      <td>rohit sharma posted a photo with his daughter</td>\n",
              "    </tr>\n",
              "    <tr>\n",
              "      <th>4</th>\n",
              "      <td>Former Pakistan skipper Salman Butt feels Roh...</td>\n",
              "      <td>former pakistan skipper salman butt feels roh...</td>\n",
              "    </tr>\n",
              "  </tbody>\n",
              "</table>\n",
              "</div>"
            ],
            "text/plain": [
              "                                         Description                                  Description_Lower\n",
              "0   Former Pakistan skipper Salman Butt feels Roh...   former pakistan skipper salman butt feels roh...\n",
              "1   While some feel Kohli is not capable of leadi...   while some feel kohli is not capable of leadi...\n",
              "2   Former Eng spinner Monty Panesar has said tha...   former eng spinner monty panesar has said tha...\n",
              "3      Rohit Sharma posted a photo with his daughter      rohit sharma posted a photo with his daughter\n",
              "4   Former Pakistan skipper Salman Butt feels Roh...   former pakistan skipper salman butt feels roh..."
            ]
          },
          "metadata": {
            "tags": []
          },
          "execution_count": 5
        }
      ]
    },
    {
      "cell_type": "code",
      "metadata": {
        "colab": {
          "base_uri": "https://localhost:8080/",
          "height": 306
        },
        "id": "XJfNxVtTe4mG",
        "outputId": "e89008ec-b850-40fb-9325-926e6c09d61b"
      },
      "source": [
        "#df.drop([\"Description_Lower\"], axis=1, inplace=True)\n",
        "\n",
        "PUNCT_TO_REMOVE = string.punctuation\n",
        "def remove_punctuation(Description):\n",
        "    \"\"\"custom function to remove the punctuation\"\"\"\n",
        "    return Description.translate(str.maketrans('', '', PUNCT_TO_REMOVE))\n",
        "\n",
        "df[\"Description_wo_punct\"] = df[\"Description\"].apply(lambda Description: remove_punctuation(Description))\n",
        "df.head()"
      ],
      "execution_count": null,
      "outputs": [
        {
          "output_type": "stream",
          "text": [
            "/usr/local/lib/python3.7/dist-packages/ipykernel_launcher.py:8: SettingWithCopyWarning: \n",
            "A value is trying to be set on a copy of a slice from a DataFrame.\n",
            "Try using .loc[row_indexer,col_indexer] = value instead\n",
            "\n",
            "See the caveats in the documentation: https://pandas.pydata.org/pandas-docs/stable/user_guide/indexing.html#returning-a-view-versus-a-copy\n",
            "  \n"
          ],
          "name": "stderr"
        },
        {
          "output_type": "execute_result",
          "data": {
            "text/html": [
              "<div>\n",
              "<style scoped>\n",
              "    .dataframe tbody tr th:only-of-type {\n",
              "        vertical-align: middle;\n",
              "    }\n",
              "\n",
              "    .dataframe tbody tr th {\n",
              "        vertical-align: top;\n",
              "    }\n",
              "\n",
              "    .dataframe thead th {\n",
              "        text-align: right;\n",
              "    }\n",
              "</style>\n",
              "<table border=\"1\" class=\"dataframe\">\n",
              "  <thead>\n",
              "    <tr style=\"text-align: right;\">\n",
              "      <th></th>\n",
              "      <th>Description</th>\n",
              "      <th>Description_Lower</th>\n",
              "      <th>Description_wo_punct</th>\n",
              "    </tr>\n",
              "  </thead>\n",
              "  <tbody>\n",
              "    <tr>\n",
              "      <th>0</th>\n",
              "      <td>Former Pakistan skipper Salman Butt feels Roh...</td>\n",
              "      <td>former pakistan skipper salman butt feels roh...</td>\n",
              "      <td>Former Pakistan skipper Salman Butt feels Roh...</td>\n",
              "    </tr>\n",
              "    <tr>\n",
              "      <th>1</th>\n",
              "      <td>While some feel Kohli is not capable of leadi...</td>\n",
              "      <td>while some feel kohli is not capable of leadi...</td>\n",
              "      <td>While some feel Kohli is not capable of leadi...</td>\n",
              "    </tr>\n",
              "    <tr>\n",
              "      <th>2</th>\n",
              "      <td>Former Eng spinner Monty Panesar has said tha...</td>\n",
              "      <td>former eng spinner monty panesar has said tha...</td>\n",
              "      <td>Former Eng spinner Monty Panesar has said tha...</td>\n",
              "    </tr>\n",
              "    <tr>\n",
              "      <th>3</th>\n",
              "      <td>Rohit Sharma posted a photo with his daughter</td>\n",
              "      <td>rohit sharma posted a photo with his daughter</td>\n",
              "      <td>Rohit Sharma posted a photo with his daughter</td>\n",
              "    </tr>\n",
              "    <tr>\n",
              "      <th>4</th>\n",
              "      <td>Former Pakistan skipper Salman Butt feels Roh...</td>\n",
              "      <td>former pakistan skipper salman butt feels roh...</td>\n",
              "      <td>Former Pakistan skipper Salman Butt feels Roh...</td>\n",
              "    </tr>\n",
              "  </tbody>\n",
              "</table>\n",
              "</div>"
            ],
            "text/plain": [
              "                                         Description  ...                               Description_wo_punct\n",
              "0   Former Pakistan skipper Salman Butt feels Roh...  ...   Former Pakistan skipper Salman Butt feels Roh...\n",
              "1   While some feel Kohli is not capable of leadi...  ...   While some feel Kohli is not capable of leadi...\n",
              "2   Former Eng spinner Monty Panesar has said tha...  ...   Former Eng spinner Monty Panesar has said tha...\n",
              "3      Rohit Sharma posted a photo with his daughter  ...      Rohit Sharma posted a photo with his daughter\n",
              "4   Former Pakistan skipper Salman Butt feels Roh...  ...   Former Pakistan skipper Salman Butt feels Roh...\n",
              "\n",
              "[5 rows x 3 columns]"
            ]
          },
          "metadata": {
            "tags": []
          },
          "execution_count": 6
        }
      ]
    },
    {
      "cell_type": "code",
      "metadata": {
        "colab": {
          "base_uri": "https://localhost:8080/",
          "height": 238
        },
        "id": "a7DlD9V0iWTl",
        "outputId": "7a372ca8-e0eb-4ae8-82f1-fca8bb5385cd"
      },
      "source": [
        "import nltk\n",
        "nltk.download('stopwords')\n",
        "STOPWORDS = set(stopwords.words('english'))\n",
        "def remove_stopwords(Description):\n",
        "    \"\"\"custom function to remove the stopwords\"\"\"\n",
        "    return \" \".join([word for word in str(Description).split() if word not in STOPWORDS])\n",
        "\n",
        "df[\"Description_wo_stopword\"] = df[\"Description\"].apply(lambda Description: remove_stopwords(Description))\n",
        "df.head()"
      ],
      "execution_count": null,
      "outputs": [
        {
          "output_type": "stream",
          "text": [
            "[nltk_data] Downloading package stopwords to /root/nltk_data...\n",
            "[nltk_data]   Package stopwords is already up-to-date!\n"
          ],
          "name": "stdout"
        },
        {
          "output_type": "execute_result",
          "data": {
            "text/html": [
              "<div>\n",
              "<style scoped>\n",
              "    .dataframe tbody tr th:only-of-type {\n",
              "        vertical-align: middle;\n",
              "    }\n",
              "\n",
              "    .dataframe tbody tr th {\n",
              "        vertical-align: top;\n",
              "    }\n",
              "\n",
              "    .dataframe thead th {\n",
              "        text-align: right;\n",
              "    }\n",
              "</style>\n",
              "<table border=\"1\" class=\"dataframe\">\n",
              "  <thead>\n",
              "    <tr style=\"text-align: right;\">\n",
              "      <th></th>\n",
              "      <th>Description</th>\n",
              "      <th>Description_Tokenize</th>\n",
              "      <th>Description_wo_stopword</th>\n",
              "    </tr>\n",
              "  </thead>\n",
              "  <tbody>\n",
              "    <tr>\n",
              "      <th>0</th>\n",
              "      <td>Former Pakistan skipper Salman Butt feels Roh...</td>\n",
              "      <td>[Former, Pakistan, skipper, Salman, Butt, feel...</td>\n",
              "      <td>Former Pakistan skipper Salman Butt feels Rohi...</td>\n",
              "    </tr>\n",
              "    <tr>\n",
              "      <th>1</th>\n",
              "      <td>While some feel Kohli is not capable of leadi...</td>\n",
              "      <td>[While, some, feel, Kohli, is, not, capable, o...</td>\n",
              "      <td>While feel Kohli capable leading team ICC crow...</td>\n",
              "    </tr>\n",
              "    <tr>\n",
              "      <th>2</th>\n",
              "      <td>Former Eng spinner Monty Panesar has said tha...</td>\n",
              "      <td>[Former, Eng, spinner, Monty, Panesar, has, sa...</td>\n",
              "      <td>Former Eng spinner Monty Panesar said Rohit Sh...</td>\n",
              "    </tr>\n",
              "    <tr>\n",
              "      <th>3</th>\n",
              "      <td>Rohit Sharma posted a photo with his daughter</td>\n",
              "      <td>[Rohit, Sharma, posted, a, photo, with, his, d...</td>\n",
              "      <td>Rohit Sharma posted photo daughter</td>\n",
              "    </tr>\n",
              "    <tr>\n",
              "      <th>4</th>\n",
              "      <td>Former Pakistan skipper Salman Butt feels Roh...</td>\n",
              "      <td>[Former, Pakistan, skipper, Salman, Butt, feel...</td>\n",
              "      <td>Former Pakistan skipper Salman Butt feels Rohi...</td>\n",
              "    </tr>\n",
              "  </tbody>\n",
              "</table>\n",
              "</div>"
            ],
            "text/plain": [
              "                                         Description  ...                            Description_wo_stopword\n",
              "0   Former Pakistan skipper Salman Butt feels Roh...  ...  Former Pakistan skipper Salman Butt feels Rohi...\n",
              "1   While some feel Kohli is not capable of leadi...  ...  While feel Kohli capable leading team ICC crow...\n",
              "2   Former Eng spinner Monty Panesar has said tha...  ...  Former Eng spinner Monty Panesar said Rohit Sh...\n",
              "3      Rohit Sharma posted a photo with his daughter  ...                 Rohit Sharma posted photo daughter\n",
              "4   Former Pakistan skipper Salman Butt feels Roh...  ...  Former Pakistan skipper Salman Butt feels Rohi...\n",
              "\n",
              "[5 rows x 3 columns]"
            ]
          },
          "metadata": {
            "tags": []
          },
          "execution_count": 12
        }
      ]
    },
    {
      "cell_type": "markdown",
      "metadata": {
        "id": "iIE9r9hczCUg"
      },
      "source": [
        "Collecting Frequent Words"
      ]
    },
    {
      "cell_type": "code",
      "metadata": {
        "colab": {
          "base_uri": "https://localhost:8080/"
        },
        "id": "C-c-OVqllqxL",
        "outputId": "93f35c27-abac-42bd-b803-0f495d37c12f"
      },
      "source": [
        "from collections import Counter\n",
        "cnt = Counter()\n",
        "for Document in df[\"Description\"].values:\n",
        "    for word in Document.split():\n",
        "        cnt[word] += 1\n",
        "        \n",
        "cnt.most_common(20)"
      ],
      "execution_count": null,
      "outputs": [
        {
          "output_type": "execute_result",
          "data": {
            "text/plain": [
              "[('Rohit', 40),\n",
              " ('Sharma', 38),\n",
              " ('the', 32),\n",
              " ('a', 22),\n",
              " ('is', 21),\n",
              " ('of', 20),\n",
              " ('his', 16),\n",
              " ('with', 14),\n",
              " ('in', 14),\n",
              " ('to', 13),\n",
              " ('on', 11),\n",
              " ('Former', 10),\n",
              " ('Kohli', 10),\n",
              " ('has', 9),\n",
              " ('Virat', 8),\n",
              " ('and', 8),\n",
              " ('Pakistan', 6),\n",
              " ('skipper', 6),\n",
              " ('Salman', 6),\n",
              " ('feels', 6)]"
            ]
          },
          "metadata": {
            "tags": []
          },
          "execution_count": 13
        }
      ]
    },
    {
      "cell_type": "markdown",
      "metadata": {
        "id": "jjjZN5ha06uE"
      },
      "source": [
        "Tokenization"
      ]
    },
    {
      "cell_type": "code",
      "metadata": {
        "colab": {
          "base_uri": "https://localhost:8080/",
          "height": 238
        },
        "id": "uLPNbBaE06Aq",
        "outputId": "1e68e130-18bb-40da-ac5e-d7a634fd4277"
      },
      "source": [
        "import nltk\n",
        "nltk.download('punkt')\n",
        "df=pd.DataFrame(data['Description'].astype(str))\n",
        "df[\"Description_Tokenize\"]=df.apply(lambda column:nltk.word_tokenize(column[\"Description\"]),axis=1)\n",
        "df[\"Description_Tokenize\"]\n",
        "df.head()"
      ],
      "execution_count": null,
      "outputs": [
        {
          "output_type": "stream",
          "text": [
            "[nltk_data] Downloading package punkt to /root/nltk_data...\n",
            "[nltk_data]   Package punkt is already up-to-date!\n"
          ],
          "name": "stdout"
        },
        {
          "output_type": "execute_result",
          "data": {
            "text/html": [
              "<div>\n",
              "<style scoped>\n",
              "    .dataframe tbody tr th:only-of-type {\n",
              "        vertical-align: middle;\n",
              "    }\n",
              "\n",
              "    .dataframe tbody tr th {\n",
              "        vertical-align: top;\n",
              "    }\n",
              "\n",
              "    .dataframe thead th {\n",
              "        text-align: right;\n",
              "    }\n",
              "</style>\n",
              "<table border=\"1\" class=\"dataframe\">\n",
              "  <thead>\n",
              "    <tr style=\"text-align: right;\">\n",
              "      <th></th>\n",
              "      <th>Description</th>\n",
              "      <th>Description_Tokenize</th>\n",
              "    </tr>\n",
              "  </thead>\n",
              "  <tbody>\n",
              "    <tr>\n",
              "      <th>0</th>\n",
              "      <td>Former Pakistan skipper Salman Butt feels Roh...</td>\n",
              "      <td>[Former, Pakistan, skipper, Salman, Butt, feel...</td>\n",
              "    </tr>\n",
              "    <tr>\n",
              "      <th>1</th>\n",
              "      <td>While some feel Kohli is not capable of leadi...</td>\n",
              "      <td>[While, some, feel, Kohli, is, not, capable, o...</td>\n",
              "    </tr>\n",
              "    <tr>\n",
              "      <th>2</th>\n",
              "      <td>Former Eng spinner Monty Panesar has said tha...</td>\n",
              "      <td>[Former, Eng, spinner, Monty, Panesar, has, sa...</td>\n",
              "    </tr>\n",
              "    <tr>\n",
              "      <th>3</th>\n",
              "      <td>Rohit Sharma posted a photo with his daughter</td>\n",
              "      <td>[Rohit, Sharma, posted, a, photo, with, his, d...</td>\n",
              "    </tr>\n",
              "    <tr>\n",
              "      <th>4</th>\n",
              "      <td>Former Pakistan skipper Salman Butt feels Roh...</td>\n",
              "      <td>[Former, Pakistan, skipper, Salman, Butt, feel...</td>\n",
              "    </tr>\n",
              "  </tbody>\n",
              "</table>\n",
              "</div>"
            ],
            "text/plain": [
              "                                         Description                               Description_Tokenize\n",
              "0   Former Pakistan skipper Salman Butt feels Roh...  [Former, Pakistan, skipper, Salman, Butt, feel...\n",
              "1   While some feel Kohli is not capable of leadi...  [While, some, feel, Kohli, is, not, capable, o...\n",
              "2   Former Eng spinner Monty Panesar has said tha...  [Former, Eng, spinner, Monty, Panesar, has, sa...\n",
              "3      Rohit Sharma posted a photo with his daughter  [Rohit, Sharma, posted, a, photo, with, his, d...\n",
              "4   Former Pakistan skipper Salman Butt feels Roh...  [Former, Pakistan, skipper, Salman, Butt, feel..."
            ]
          },
          "metadata": {
            "tags": []
          },
          "execution_count": 14
        }
      ]
    },
    {
      "cell_type": "markdown",
      "metadata": {
        "id": "eZ6A9jvTtNPG"
      },
      "source": [
        "Stemming"
      ]
    },
    {
      "cell_type": "code",
      "metadata": {
        "colab": {
          "base_uri": "https://localhost:8080/",
          "height": 204
        },
        "id": "-ILaQwVBrJKa",
        "outputId": "b25fa976-84ff-42fd-c557-2db8e03e21a4"
      },
      "source": [
        "from nltk.stem.porter import PorterStemmer\n",
        "\n",
        "# Drop the two columns \n",
        "#df.drop([\"Description_wo_punct\", \"Description_wo_stopword\"], axis=1, inplace=True) \n",
        "\n",
        "stemmer = PorterStemmer()\n",
        "def stem_words(Description):\n",
        "    return \" \".join([stemmer.stem(word) for word in Description.split()])\n",
        "\n",
        "df[\"Description_stemmed\"] = df[\"Description\"].apply(lambda Description: stem_words(Description))\n",
        "df.head()"
      ],
      "execution_count": null,
      "outputs": [
        {
          "output_type": "execute_result",
          "data": {
            "text/html": [
              "<div>\n",
              "<style scoped>\n",
              "    .dataframe tbody tr th:only-of-type {\n",
              "        vertical-align: middle;\n",
              "    }\n",
              "\n",
              "    .dataframe tbody tr th {\n",
              "        vertical-align: top;\n",
              "    }\n",
              "\n",
              "    .dataframe thead th {\n",
              "        text-align: right;\n",
              "    }\n",
              "</style>\n",
              "<table border=\"1\" class=\"dataframe\">\n",
              "  <thead>\n",
              "    <tr style=\"text-align: right;\">\n",
              "      <th></th>\n",
              "      <th>Description</th>\n",
              "      <th>Description_Tokenize</th>\n",
              "      <th>Description_stemmed</th>\n",
              "    </tr>\n",
              "  </thead>\n",
              "  <tbody>\n",
              "    <tr>\n",
              "      <th>0</th>\n",
              "      <td>Former Pakistan skipper Salman Butt feels Roh...</td>\n",
              "      <td>[Former, Pakistan, skipper, Salman, Butt, feel...</td>\n",
              "      <td>former pakistan skipper salman butt feel rohit...</td>\n",
              "    </tr>\n",
              "    <tr>\n",
              "      <th>1</th>\n",
              "      <td>While some feel Kohli is not capable of leadi...</td>\n",
              "      <td>[While, some, feel, Kohli, is, not, capable, o...</td>\n",
              "      <td>while some feel kohli is not capabl of lead th...</td>\n",
              "    </tr>\n",
              "    <tr>\n",
              "      <th>2</th>\n",
              "      <td>Former Eng spinner Monty Panesar has said tha...</td>\n",
              "      <td>[Former, Eng, spinner, Monty, Panesar, has, sa...</td>\n",
              "      <td>former eng spinner monti panesar ha said that ...</td>\n",
              "    </tr>\n",
              "    <tr>\n",
              "      <th>3</th>\n",
              "      <td>Rohit Sharma posted a photo with his daughter</td>\n",
              "      <td>[Rohit, Sharma, posted, a, photo, with, his, d...</td>\n",
              "      <td>rohit sharma post a photo with hi daughter</td>\n",
              "    </tr>\n",
              "    <tr>\n",
              "      <th>4</th>\n",
              "      <td>Former Pakistan skipper Salman Butt feels Roh...</td>\n",
              "      <td>[Former, Pakistan, skipper, Salman, Butt, feel...</td>\n",
              "      <td>former pakistan skipper salman butt feel rohit...</td>\n",
              "    </tr>\n",
              "  </tbody>\n",
              "</table>\n",
              "</div>"
            ],
            "text/plain": [
              "                                         Description  ...                                Description_stemmed\n",
              "0   Former Pakistan skipper Salman Butt feels Roh...  ...  former pakistan skipper salman butt feel rohit...\n",
              "1   While some feel Kohli is not capable of leadi...  ...  while some feel kohli is not capabl of lead th...\n",
              "2   Former Eng spinner Monty Panesar has said tha...  ...  former eng spinner monti panesar ha said that ...\n",
              "3      Rohit Sharma posted a photo with his daughter  ...         rohit sharma post a photo with hi daughter\n",
              "4   Former Pakistan skipper Salman Butt feels Roh...  ...  former pakistan skipper salman butt feel rohit...\n",
              "\n",
              "[5 rows x 3 columns]"
            ]
          },
          "metadata": {
            "tags": []
          },
          "execution_count": 16
        }
      ]
    },
    {
      "cell_type": "markdown",
      "metadata": {
        "id": "CZlpsMgQvEKr"
      },
      "source": [
        "Lemmatization"
      ]
    },
    {
      "cell_type": "code",
      "metadata": {
        "colab": {
          "base_uri": "https://localhost:8080/"
        },
        "id": "mk2uJtc7ds3c",
        "outputId": "b020e437-35eb-46a0-9ebc-ec611c5f5650"
      },
      "source": [
        "import nltk\n",
        "nltk.download('wordnet')\n",
        "nltk.download('averaged_perceptron_tagger')"
      ],
      "execution_count": null,
      "outputs": [
        {
          "output_type": "stream",
          "text": [
            "[nltk_data] Downloading package wordnet to /root/nltk_data...\n",
            "[nltk_data]   Package wordnet is already up-to-date!\n",
            "[nltk_data] Downloading package averaged_perceptron_tagger to\n",
            "[nltk_data]     /root/nltk_data...\n",
            "[nltk_data]   Unzipping taggers/averaged_perceptron_tagger.zip.\n"
          ],
          "name": "stdout"
        },
        {
          "output_type": "execute_result",
          "data": {
            "text/plain": [
              "True"
            ]
          },
          "metadata": {
            "tags": []
          },
          "execution_count": 20
        }
      ]
    },
    {
      "cell_type": "code",
      "metadata": {
        "colab": {
          "base_uri": "https://localhost:8080/",
          "height": 272
        },
        "id": "8YCbhjGlvDxG",
        "outputId": "1633b5a0-c74f-4aca-9c21-f8eed334d7d8"
      },
      "source": [
        "from nltk.corpus import wordnet\n",
        "from nltk.stem import WordNetLemmatizer\n",
        "\n",
        "lemmatizer = WordNetLemmatizer()\n",
        "wordnet_map = {\"N\":wordnet.NOUN, \"V\":wordnet.VERB, \"J\":wordnet.ADJ, \"R\":wordnet.ADV}\n",
        "def lemmatize_words(Description):\n",
        "    pos_tagged_Description = nltk.pos_tag(Description.split())\n",
        "    return \" \".join([lemmatizer.lemmatize(word, wordnet_map.get(pos[0], wordnet.NOUN)) for word, pos in pos_tagged_Description])\n",
        "\n",
        "df[\"Description_lemmatized\"] = df[\"Description\"].apply(lambda Description: lemmatize_words(Description))\n",
        "df.head()\n"
      ],
      "execution_count": null,
      "outputs": [
        {
          "output_type": "execute_result",
          "data": {
            "text/html": [
              "<div>\n",
              "<style scoped>\n",
              "    .dataframe tbody tr th:only-of-type {\n",
              "        vertical-align: middle;\n",
              "    }\n",
              "\n",
              "    .dataframe tbody tr th {\n",
              "        vertical-align: top;\n",
              "    }\n",
              "\n",
              "    .dataframe thead th {\n",
              "        text-align: right;\n",
              "    }\n",
              "</style>\n",
              "<table border=\"1\" class=\"dataframe\">\n",
              "  <thead>\n",
              "    <tr style=\"text-align: right;\">\n",
              "      <th></th>\n",
              "      <th>Description</th>\n",
              "      <th>Description_Tokenize</th>\n",
              "      <th>Description_stemmed</th>\n",
              "      <th>Description_lemmatized</th>\n",
              "    </tr>\n",
              "  </thead>\n",
              "  <tbody>\n",
              "    <tr>\n",
              "      <th>0</th>\n",
              "      <td>Former Pakistan skipper Salman Butt feels Roh...</td>\n",
              "      <td>[Former, Pakistan, skipper, Salman, Butt, feel...</td>\n",
              "      <td>former pakistan skipper salman butt feel rohit...</td>\n",
              "      <td>Former Pakistan skipper Salman Butt feel Rohit...</td>\n",
              "    </tr>\n",
              "    <tr>\n",
              "      <th>1</th>\n",
              "      <td>While some feel Kohli is not capable of leadi...</td>\n",
              "      <td>[While, some, feel, Kohli, is, not, capable, o...</td>\n",
              "      <td>while some feel kohli is not capabl of lead th...</td>\n",
              "      <td>While some feel Kohli be not capable of lead t...</td>\n",
              "    </tr>\n",
              "    <tr>\n",
              "      <th>2</th>\n",
              "      <td>Former Eng spinner Monty Panesar has said tha...</td>\n",
              "      <td>[Former, Eng, spinner, Monty, Panesar, has, sa...</td>\n",
              "      <td>former eng spinner monti panesar ha said that ...</td>\n",
              "      <td>Former Eng spinner Monty Panesar have say that...</td>\n",
              "    </tr>\n",
              "    <tr>\n",
              "      <th>3</th>\n",
              "      <td>Rohit Sharma posted a photo with his daughter</td>\n",
              "      <td>[Rohit, Sharma, posted, a, photo, with, his, d...</td>\n",
              "      <td>rohit sharma post a photo with hi daughter</td>\n",
              "      <td>Rohit Sharma post a photo with his daughter</td>\n",
              "    </tr>\n",
              "    <tr>\n",
              "      <th>4</th>\n",
              "      <td>Former Pakistan skipper Salman Butt feels Roh...</td>\n",
              "      <td>[Former, Pakistan, skipper, Salman, Butt, feel...</td>\n",
              "      <td>former pakistan skipper salman butt feel rohit...</td>\n",
              "      <td>Former Pakistan skipper Salman Butt feel Rohit...</td>\n",
              "    </tr>\n",
              "  </tbody>\n",
              "</table>\n",
              "</div>"
            ],
            "text/plain": [
              "                                         Description  ...                             Description_lemmatized\n",
              "0   Former Pakistan skipper Salman Butt feels Roh...  ...  Former Pakistan skipper Salman Butt feel Rohit...\n",
              "1   While some feel Kohli is not capable of leadi...  ...  While some feel Kohli be not capable of lead t...\n",
              "2   Former Eng spinner Monty Panesar has said tha...  ...  Former Eng spinner Monty Panesar have say that...\n",
              "3      Rohit Sharma posted a photo with his daughter  ...        Rohit Sharma post a photo with his daughter\n",
              "4   Former Pakistan skipper Salman Butt feels Roh...  ...  Former Pakistan skipper Salman Butt feel Rohit...\n",
              "\n",
              "[5 rows x 4 columns]"
            ]
          },
          "metadata": {
            "tags": []
          },
          "execution_count": 21
        }
      ]
    },
    {
      "cell_type": "code",
      "metadata": {
        "colab": {
          "base_uri": "https://localhost:8080/"
        },
        "id": "wIE7V2uh0Fuu",
        "outputId": "cf751bc5-41a5-4743-ed37-f7bcc3c079fb"
      },
      "source": [
        "!pip install pyspellchecker"
      ],
      "execution_count": null,
      "outputs": [
        {
          "output_type": "stream",
          "text": [
            "Requirement already satisfied: pyspellchecker in /usr/local/lib/python3.7/dist-packages (0.6.2)\n"
          ],
          "name": "stdout"
        }
      ]
    },
    {
      "cell_type": "code",
      "metadata": {
        "id": "Q4KWwzUBzeEH"
      },
      "source": [
        ""
      ],
      "execution_count": null,
      "outputs": []
    }
  ]
}