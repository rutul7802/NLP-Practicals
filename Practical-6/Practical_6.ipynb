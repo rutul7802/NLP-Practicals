{
  "nbformat": 4,
  "nbformat_minor": 0,
  "metadata": {
    "colab": {
      "name": "Practical-6.ipynb",
      "provenance": []
    },
    "kernelspec": {
      "name": "python3",
      "display_name": "Python 3"
    },
    "language_info": {
      "name": "python"
    }
  },
  "cells": [
    {
      "cell_type": "markdown",
      "metadata": {
        "id": "rdte-yMM6Vc9"
      },
      "source": [
        "**Implementation text classification using Naïve Bayes, SVM.**\n",
        "\n",
        "\n"
      ]
    },
    {
      "cell_type": "code",
      "metadata": {
        "id": "CXDCZk3y0Nda"
      },
      "source": [
        "from sklearn.svm import LinearSVC\n",
        "from sklearn.pipeline import Pipeline\n",
        "from sklearn import metrics\n",
        "from sklearn.feature_extraction.text import CountVectorizer\n",
        "from sklearn.feature_extraction.text import TfidfTransformer\n",
        "from sklearn.datasets import fetch_20newsgroups\n",
        "from sklearn.pipeline import make_pipeline\n",
        "from sklearn.feature_extraction.text import TfidfVectorizer\n",
        "from sklearn.naive_bayes import MultinomialNB\n",
        "import numpy as np, pandas as pd\n",
        "import seaborn as sns\n",
        "import matplotlib.pyplot as plt\n",
        "from sklearn.metrics import confusion_matrix, accuracy_score\n"
      ],
      "execution_count": 36,
      "outputs": []
    },
    {
      "cell_type": "code",
      "metadata": {
        "id": "02xyMXu_0isc"
      },
      "source": [
        "newsgroups_train = fetch_20newsgroups(subset='train')\n",
        "newsgroups_test = fetch_20newsgroups(subset='test')\n",
        "X_train = newsgroups_train.data\n",
        "X_test = newsgroups_test.data\n",
        "y_train = newsgroups_train.target\n",
        "y_test = newsgroups_test.target\n"
      ],
      "execution_count": 37,
      "outputs": []
    },
    {
      "cell_type": "code",
      "metadata": {
        "id": "oCuyvYm80rcX"
      },
      "source": [
        "text_clf = Pipeline([('vect', CountVectorizer()),\n",
        "                     ('tfidf', TfidfTransformer()),\n",
        "                     ('clf', LinearSVC()),\n",
        "                     ])\n"
      ],
      "execution_count": 38,
      "outputs": []
    },
    {
      "cell_type": "code",
      "metadata": {
        "colab": {
          "base_uri": "https://localhost:8080/"
        },
        "id": "SrEYD9cI0wGE",
        "outputId": "63397105-6e61-458b-843a-74e6fe3ecd23"
      },
      "source": [
        "text_clf.fit(X_train, y_train)\n"
      ],
      "execution_count": 39,
      "outputs": [
        {
          "output_type": "execute_result",
          "data": {
            "text/plain": [
              "Pipeline(steps=[('vect', CountVectorizer()), ('tfidf', TfidfTransformer()),\n",
              "                ('clf', LinearSVC())])"
            ]
          },
          "metadata": {},
          "execution_count": 39
        }
      ]
    },
    {
      "cell_type": "code",
      "metadata": {
        "id": "4dXEe7C005fU"
      },
      "source": [
        "predicted = text_clf.predict(X_test)\n"
      ],
      "execution_count": 40,
      "outputs": []
    },
    {
      "cell_type": "code",
      "metadata": {
        "colab": {
          "base_uri": "https://localhost:8080/"
        },
        "id": "EwL60xbO0-zL",
        "outputId": "e29fbf09-b10c-4225-ef0e-1277dc552f2f"
      },
      "source": [
        "print(metrics.classification_report(y_test, predicted))\n"
      ],
      "execution_count": 41,
      "outputs": [
        {
          "output_type": "stream",
          "name": "stdout",
          "text": [
            "              precision    recall  f1-score   support\n",
            "\n",
            "           0       0.82      0.80      0.81       319\n",
            "           1       0.76      0.80      0.78       389\n",
            "           2       0.77      0.73      0.75       394\n",
            "           3       0.71      0.76      0.74       392\n",
            "           4       0.84      0.86      0.85       385\n",
            "           5       0.87      0.76      0.81       395\n",
            "           6       0.83      0.91      0.87       390\n",
            "           7       0.92      0.91      0.91       396\n",
            "           8       0.95      0.95      0.95       398\n",
            "           9       0.92      0.95      0.93       397\n",
            "          10       0.96      0.98      0.97       399\n",
            "          11       0.93      0.94      0.93       396\n",
            "          12       0.81      0.79      0.80       393\n",
            "          13       0.90      0.87      0.88       396\n",
            "          14       0.90      0.93      0.92       394\n",
            "          15       0.84      0.93      0.88       398\n",
            "          16       0.75      0.92      0.82       364\n",
            "          17       0.97      0.89      0.93       376\n",
            "          18       0.82      0.62      0.71       310\n",
            "          19       0.75      0.61      0.68       251\n",
            "\n",
            "    accuracy                           0.85      7532\n",
            "   macro avg       0.85      0.85      0.85      7532\n",
            "weighted avg       0.85      0.85      0.85      7532\n",
            "\n"
          ]
        }
      ]
    },
    {
      "cell_type": "markdown",
      "metadata": {
        "id": "pdObZhYM8301"
      },
      "source": [
        "**Naive Bayes**"
      ]
    },
    {
      "cell_type": "code",
      "metadata": {
        "id": "zFJne5b71Bpq"
      },
      "source": [
        "data = fetch_20newsgroups()\n",
        "text_categories = data.target_names\n",
        "train_data = fetch_20newsgroups(subset=\"train\", categories=text_categories)\n",
        "test_data = fetch_20newsgroups(subset=\"test\", categories=text_categories)"
      ],
      "execution_count": 42,
      "outputs": []
    },
    {
      "cell_type": "code",
      "metadata": {
        "id": "h-C4ho1V5Wje"
      },
      "source": [
        "model = make_pipeline(TfidfVectorizer(), MultinomialNB())\n",
        "model.fit(train_data.data, train_data.target)\n",
        "predicted_categories = model.predict(test_data.data)\n"
      ],
      "execution_count": 43,
      "outputs": []
    },
    {
      "cell_type": "code",
      "metadata": {
        "colab": {
          "base_uri": "https://localhost:8080/"
        },
        "id": "mVf1BOVh5ikx",
        "outputId": "9729957b-fbf4-4a1f-fcef-b792cc8cd9fd"
      },
      "source": [
        "print(np.array(test_data.target_names)[predicted_categories])\n",
        "np.array(['rec.autos', 'sci.crypt', 'alt.atheism', ..., 'rec.sport.baseball', 'comp.sys.ibm.pc.hardware', 'soc.religion.christian'], dtype='<U24')\n"
      ],
      "execution_count": 44,
      "outputs": [
        {
          "output_type": "stream",
          "name": "stdout",
          "text": [
            "['rec.autos' 'sci.crypt' 'alt.atheism' ... 'rec.sport.baseball'\n",
            " 'comp.sys.ibm.pc.hardware' 'soc.religion.christian']\n"
          ]
        },
        {
          "output_type": "execute_result",
          "data": {
            "text/plain": [
              "array(['rec.autos', 'sci.crypt', 'alt.atheism', 'Ellipsis',\n",
              "       'rec.sport.baseball', 'comp.sys.ibm.pc.hardware',\n",
              "       'soc.religion.christian'], dtype='<U24')"
            ]
          },
          "metadata": {},
          "execution_count": 44
        }
      ]
    },
    {
      "cell_type": "code",
      "metadata": {
        "colab": {
          "base_uri": "https://localhost:8080/"
        },
        "id": "jBDu30WE7XCO",
        "outputId": "8312eb2a-4953-42d9-cd12-3c454546d211"
      },
      "source": [
        "print(\"The accuracy is {}\".format(accuracy_score(test_data.target, predicted_categories)))\n"
      ],
      "execution_count": 45,
      "outputs": [
        {
          "output_type": "stream",
          "name": "stdout",
          "text": [
            "The accuracy is 0.7738980350504514\n"
          ]
        }
      ]
    }
  ]
}